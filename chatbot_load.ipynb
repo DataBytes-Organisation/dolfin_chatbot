{
  "nbformat": 4,
  "nbformat_minor": 0,
  "metadata": {
    "colab": {
      "provenance": []
    },
    "kernelspec": {
      "name": "python3",
      "display_name": "Python 3"
    },
    "language_info": {
      "name": "python"
    }
  },
  "cells": [
    {
      "cell_type": "code",
      "source": [
        "# CODE FOR LOADING SAVED CHATBOT\n",
        "\n",
        "# import libraries\n",
        "import random\n",
        "import json\n",
        "import pickle\n",
        "import numpy as np\n",
        "import nltk\n",
        "from keras.models import load_model\n",
        "from nltk.stem import WordNetLemmatizer\n",
        "\n",
        "# load intents and saved model output files\n",
        "lemmatizer = WordNetLemmatizer()\n",
        "intents = json.loads(open(\"intents.json\").read())\n",
        "words = pickle.load(open('words.pkl', 'rb'))\n",
        "labels = pickle.load(open('labels.pkl', 'rb'))\n",
        "model = load_model('chatbotmodel.h5')\n",
        "\n",
        "# separate input words from input sentence\n",
        "def clean_up_sentences(sentence):\n",
        "\tsentence_words = nltk.word_tokenize(sentence)\n",
        "\tsentence_words = [lemmatizer.lemmatize(word)\n",
        "\t\t\t\t\tfor word in sentence_words]\n",
        "\treturn sentence_words\n",
        "\n",
        "# determine if input words in saved model words list\n",
        "def bagw(sentence):\n",
        "\tsentence_words = clean_up_sentences(sentence)\n",
        "\tbag = [0]*len(words)\n",
        "\tfor w in sentence_words:\n",
        "\t\tfor i, word in enumerate(words):\n",
        "\t\t\tif word == w:\n",
        "\t\t\t\tbag[i] = 1\n",
        "\treturn np.array(bag)\n",
        "\n",
        "# predict label of sentence based on input words\n",
        "def predict_class(sentence):\n",
        "\tbow = bagw(sentence)\n",
        "\tres = model.predict(np.array([bow]))[0]\n",
        "\tERROR_THRESHOLD = 0.25\n",
        "\tresults = [[i, r] for i, r in enumerate(res)\n",
        "\t\t\tif r > ERROR_THRESHOLD]\n",
        "\tresults.sort(key=lambda x: x[1], reverse=True)\n",
        "\treturn_list = []\n",
        "\tfor r in results:\n",
        "\t\treturn_list.append({'intent': labels[r[0]],\n",
        "\t\t\t\t\t\t\t'probability': str(r[1])})\n",
        "\t\treturn return_list\n",
        "\n",
        "# print random response from appropriate responses for label\n",
        "def get_response(intents_list, intents_json):\n",
        "\ttag = intents_list[0]['intent']\n",
        "\tlist_of_intents = intents_json['intents']\n",
        "\tresult = \"\"\n",
        "\tfor i in list_of_intents:\n",
        "\t\tif i['tag'] == tag:\n",
        "\t\t\tresult = random.choice(i['responses'])\n",
        "\t\t\tbreak\n",
        "\treturn result\n",
        "\n",
        "# create infinite loop that prompts for input\n",
        "print(\"Chatbot live:\")\n",
        "\n",
        "while True:\n",
        "\tmessage = input(\"\")\n",
        "\tints = predict_class(message)\n",
        "\tres = get_response(ints, intents)\n",
        "\tprint(res)\n"
      ],
      "metadata": {
        "colab": {
          "base_uri": "https://localhost:8080/",
          "height": 554
        },
        "id": "AjIvbqgEO1O7",
        "outputId": "12e8d350-27c0-491f-efa8-62ee79d75c16"
      },
      "execution_count": 72,
      "outputs": [
        {
          "output_type": "stream",
          "name": "stdout",
          "text": [
            "Chatbot live:\n",
            "hello\n",
            "1/1 [==============================] - 0s 57ms/step\n",
            "Hey! How can I assist you today?\n",
            "thank you\n",
            "1/1 [==============================] - 0s 36ms/step\n",
            "You're welcome!\n",
            "recommend\n",
            "1/1 [==============================] - 0s 20ms/step\n",
            "Based on your previous transaction you may save upto\n"
          ]
        },
        {
          "output_type": "error",
          "ename": "KeyboardInterrupt",
          "evalue": "ignored",
          "traceback": [
            "\u001b[0;31m---------------------------------------------------------------------------\u001b[0m",
            "\u001b[0;31mKeyboardInterrupt\u001b[0m                         Traceback (most recent call last)",
            "\u001b[0;32m<ipython-input-72-ae3ff63435b3>\u001b[0m in \u001b[0;36m<cell line: 64>\u001b[0;34m()\u001b[0m\n\u001b[1;32m     63\u001b[0m \u001b[0;34m\u001b[0m\u001b[0m\n\u001b[1;32m     64\u001b[0m \u001b[0;32mwhile\u001b[0m \u001b[0;32mTrue\u001b[0m\u001b[0;34m:\u001b[0m\u001b[0;34m\u001b[0m\u001b[0;34m\u001b[0m\u001b[0m\n\u001b[0;32m---> 65\u001b[0;31m         \u001b[0mmessage\u001b[0m \u001b[0;34m=\u001b[0m \u001b[0minput\u001b[0m\u001b[0;34m(\u001b[0m\u001b[0;34m\"\"\u001b[0m\u001b[0;34m)\u001b[0m\u001b[0;34m\u001b[0m\u001b[0;34m\u001b[0m\u001b[0m\n\u001b[0m\u001b[1;32m     66\u001b[0m         \u001b[0mints\u001b[0m \u001b[0;34m=\u001b[0m \u001b[0mpredict_class\u001b[0m\u001b[0;34m(\u001b[0m\u001b[0mmessage\u001b[0m\u001b[0;34m)\u001b[0m\u001b[0;34m\u001b[0m\u001b[0;34m\u001b[0m\u001b[0m\n\u001b[1;32m     67\u001b[0m         \u001b[0mres\u001b[0m \u001b[0;34m=\u001b[0m \u001b[0mget_response\u001b[0m\u001b[0;34m(\u001b[0m\u001b[0mints\u001b[0m\u001b[0;34m,\u001b[0m \u001b[0mintents\u001b[0m\u001b[0;34m)\u001b[0m\u001b[0;34m\u001b[0m\u001b[0;34m\u001b[0m\u001b[0m\n",
            "\u001b[0;32m/usr/local/lib/python3.10/dist-packages/ipykernel/kernelbase.py\u001b[0m in \u001b[0;36mraw_input\u001b[0;34m(self, prompt)\u001b[0m\n\u001b[1;32m    849\u001b[0m                 \u001b[0;34m\"raw_input was called, but this frontend does not support input requests.\"\u001b[0m\u001b[0;34m\u001b[0m\u001b[0;34m\u001b[0m\u001b[0m\n\u001b[1;32m    850\u001b[0m             )\n\u001b[0;32m--> 851\u001b[0;31m         return self._input_request(str(prompt),\n\u001b[0m\u001b[1;32m    852\u001b[0m             \u001b[0mself\u001b[0m\u001b[0;34m.\u001b[0m\u001b[0m_parent_ident\u001b[0m\u001b[0;34m,\u001b[0m\u001b[0;34m\u001b[0m\u001b[0;34m\u001b[0m\u001b[0m\n\u001b[1;32m    853\u001b[0m             \u001b[0mself\u001b[0m\u001b[0;34m.\u001b[0m\u001b[0m_parent_header\u001b[0m\u001b[0;34m,\u001b[0m\u001b[0;34m\u001b[0m\u001b[0;34m\u001b[0m\u001b[0m\n",
            "\u001b[0;32m/usr/local/lib/python3.10/dist-packages/ipykernel/kernelbase.py\u001b[0m in \u001b[0;36m_input_request\u001b[0;34m(self, prompt, ident, parent, password)\u001b[0m\n\u001b[1;32m    893\u001b[0m             \u001b[0;32mexcept\u001b[0m \u001b[0mKeyboardInterrupt\u001b[0m\u001b[0;34m:\u001b[0m\u001b[0;34m\u001b[0m\u001b[0;34m\u001b[0m\u001b[0m\n\u001b[1;32m    894\u001b[0m                 \u001b[0;31m# re-raise KeyboardInterrupt, to truncate traceback\u001b[0m\u001b[0;34m\u001b[0m\u001b[0;34m\u001b[0m\u001b[0m\n\u001b[0;32m--> 895\u001b[0;31m                 \u001b[0;32mraise\u001b[0m \u001b[0mKeyboardInterrupt\u001b[0m\u001b[0;34m(\u001b[0m\u001b[0;34m\"Interrupted by user\"\u001b[0m\u001b[0;34m)\u001b[0m \u001b[0;32mfrom\u001b[0m \u001b[0;32mNone\u001b[0m\u001b[0;34m\u001b[0m\u001b[0;34m\u001b[0m\u001b[0m\n\u001b[0m\u001b[1;32m    896\u001b[0m             \u001b[0;32mexcept\u001b[0m \u001b[0mException\u001b[0m \u001b[0;32mas\u001b[0m \u001b[0me\u001b[0m\u001b[0;34m:\u001b[0m\u001b[0;34m\u001b[0m\u001b[0;34m\u001b[0m\u001b[0m\n\u001b[1;32m    897\u001b[0m                 \u001b[0mself\u001b[0m\u001b[0;34m.\u001b[0m\u001b[0mlog\u001b[0m\u001b[0;34m.\u001b[0m\u001b[0mwarning\u001b[0m\u001b[0;34m(\u001b[0m\u001b[0;34m\"Invalid Message:\"\u001b[0m\u001b[0;34m,\u001b[0m \u001b[0mexc_info\u001b[0m\u001b[0;34m=\u001b[0m\u001b[0;32mTrue\u001b[0m\u001b[0;34m)\u001b[0m\u001b[0;34m\u001b[0m\u001b[0;34m\u001b[0m\u001b[0m\n",
            "\u001b[0;31mKeyboardInterrupt\u001b[0m: Interrupted by user"
          ]
        }
      ]
    }
  ]
}